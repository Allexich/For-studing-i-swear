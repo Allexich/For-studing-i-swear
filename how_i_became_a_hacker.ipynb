{
 "cells": [
  {
   "cell_type": "code",
   "execution_count": null,
   "metadata": {},
   "outputs": [],
   "source": [
    "#!/usr/bin/env python3\n",
    "# -*- coding: utf-8 -*-\n",
    "\n",
    "# импорт нужных библиотек\n",
    "import math\n",
    "import numpy\n",
    "import matplotlib.pyplot as mpp\n",
    "\n",
    "# если модуль запущен самостоятельно\n",
    "if __name__=='__main__':\n",
    "    # присвоить arguments список, одержащий числа от 0 до 200 с шагом 0.1\n",
    "    arguments = numpy.r_[0:200:0.1]\n",
    "    # помещаем график на холст:\n",
    "    mpp.plot(\n",
    "        # абсциссы нужных точек\n",
    "        arguments,\n",
    "        # их ординаты - список значений функции sin(x)/sin(x/20) для каждой точки из списка arguments\n",
    "        [math.sin(a) * math.sin(a/20.0) for a in arguments]\n",
    "    )\n",
    "    # рисуем все помещенные графики\n",
    "    mpp.show()"
   ]
  }
 ],
 "metadata": {
  "kernelspec": {
   "display_name": "Python 3",
   "language": "python",
   "name": "python3"
  },
  "language_info": {
   "codemirror_mode": {
    "name": "ipython",
    "version": 3
   },
   "file_extension": ".py",
   "mimetype": "text/x-python",
   "name": "python",
   "nbconvert_exporter": "python",
   "pygments_lexer": "ipython3",
   "version": "3.7.1"
  }
 },
 "nbformat": 4,
 "nbformat_minor": 2
}
